{
 "cells": [
  {
   "attachments": {},
   "cell_type": "markdown",
   "metadata": {},
   "source": [
    "# Modelo de Recurrent Neural Network"
   ]
  },
  {
   "attachments": {},
   "cell_type": "markdown",
   "metadata": {},
   "source": [
    "Importaciones necesarias"
   ]
  },
  {
   "cell_type": "code",
   "execution_count": 55,
   "metadata": {},
   "outputs": [],
   "source": [
    "import torch\n",
    "import torch.nn as nn\n",
    "import torch.optim as optim\n",
    "import torchvision\n",
    "import torchvision.transforms as transforms\n",
    "from torchsummary import summary\n",
    "from torchviz import make_dot"
   ]
  },
  {
   "cell_type": "code",
   "execution_count": null,
   "metadata": {},
   "outputs": [],
   "source": []
  },
  {
   "cell_type": "code",
   "execution_count": 56,
   "metadata": {},
   "outputs": [],
   "source": [
    "\n",
    "class CNN(nn.Module):\n",
    "    def __init__(self):\n",
    "        super(CNN, self).__init__()\n",
    "        self.conv1 = nn.Conv2d(1, 32, kernel_size=3, stride=1, padding=1)\n",
    "        self.conv2 = nn.Conv2d(32, 64, kernel_size=3, stride=1, padding=1)\n",
    "        self.pool = nn.MaxPool2d(kernel_size=2, stride=2)\n",
    "        self.fc1 = nn.Linear(64 * 56 * 56, 128)\n",
    "        self.fc2 = nn.Linear(128, 2)\n",
    "\n",
    "    def forward(self, x):\n",
    "        x = self.pool(nn.functional.relu(self.conv1(x)))\n",
    "        x = self.pool(nn.functional.relu(self.conv2(x))) \n",
    "        x = x.view(-1, 64 * 56 * 56)\n",
    "        x = nn.functional.relu(self.fc1(x))\n",
    "        x = self.fc2(x)\n",
    "        return x"
   ]
  },
  {
   "attachments": {},
   "cell_type": "markdown",
   "metadata": {},
   "source": [
    "Se crea el Modelo de CNN"
   ]
  },
  {
   "cell_type": "code",
   "execution_count": 57,
   "metadata": {},
   "outputs": [],
   "source": [
    "model = CNN()"
   ]
  },
  {
   "attachments": {},
   "cell_type": "markdown",
   "metadata": {},
   "source": [
    "Se carga el dataset de training y de test para entrenar el modelo"
   ]
  },
  {
   "cell_type": "code",
   "execution_count": 58,
   "metadata": {},
   "outputs": [],
   "source": [
    "# se cargan todas las imagenes en la carpeta PetImages y luego se dividen en train y test\n",
    "\n",
    "# transform = transforms.Compose([transforms.Resize((28, 28)), transforms.ToTensor()])\n",
    "# dataset = torchvision.datasets.ImageFolder(root='./PetImages', transform=transform)\n",
    "\n",
    "# train_dataset, test_dataset = torch.utils.data.random_split(dataset, [int(len(dataset) * 0.8), len(dataset) - int(len(dataset) * 0.8)])\n",
    "# train_loader = torch.utils.data.DataLoader(train_dataset, batch_size=128, shuffle=True)\n",
    "# test_loader = torch.utils.data.DataLoader(test_dataset, batch_size=128, shuffle=True)\n",
    "\n",
    "# import os\n",
    "# import tensorflow as tf\n",
    "# import numpy as np\n",
    "# import cv2 as ocv\n",
    "# from sklearn import random\n",
    "# from sklearn.model_selection import train_test_split\n",
    "\n",
    "# def load_data(dir, class_names, num_of_img_per_class, input_shape):\n",
    "#     classes = class_names\n",
    "#     num_of_img_per_class = num_of_img_per_class\n",
    "    \n",
    "#     data = []\n",
    "#     labels = []\n",
    "    \n",
    "#     class_counter = 1\n",
    "#     for category in os.listdir(dir):\n",
    "        \n",
    "#         if class_counter==1:\n",
    "#             print(\"Loading Data:\", end=\" \")\n",
    "#         new_dir = os.path.join(dir,category)\n",
    "        \n",
    "#         for img in os.listdir(new_dir):\n",
    "#             if len(data)<(num_of_img_per_class * class_counter):\n",
    "#                 img_path = os.path.join(new_dir,img)\n",
    "#                 if (np.all(np.array(ocv.imread(img_path,0)))==0):\n",
    "#                     data.append(ocv.resize(ocv.imread(img_path,1),(input_shape[0],input_shape[1])))\n",
    "#                     labels.append(classes.index(category))\n",
    "#                     if len(data)/(num_of_img_per_class*2)*100%20==0:\n",
    "#                         print(int(len(data)/(num_of_img_per_class*2)*100),\"%\", end=\"  \")\n",
    "                        \n",
    "#         class_counter=class_counter+1\n",
    "        \n",
    "#         if class_counter==3:\n",
    "#             print(\". Complete.\", end=\" \")\n",
    "            \n",
    "#     combined = list(zip(data,labels))\n",
    "#     random.shuffle(combined)\n",
    "#     data, labels = zip(*combined)\n",
    "#     Data = np.array(data)/255\n",
    "#     Labels = np.array(labels)\n",
    "#     n_col = Data.shape[1]\n",
    "#     n_rows = Labels.shape[0]\n",
    "#     return train_test_split(Data, Labels)\n",
    "\n",
    "\n",
    "# dir = './PetImages'\n",
    "# classes = ['Cat','Dog']\n",
    "# num_of_img_per_class =1000\n",
    "# input_shape = (224, 224, 3)\n",
    "# x_train, x_test, y_train, y_test = load_data(dir, classes, num_of_img_per_class, input_shape)\n",
    "\n",
    "# model = DenseNetModel(input_shape)\n",
    "\n",
    "# model.compile(optimizer='adam', loss='binary_crossentropy', metrics=['accuracy'])\n",
    "\n",
    "# model.fit(x_train, y_train, epochs = 20, batch_size = 32)\n",
    "# test_set_accuracy = model.evaluate(x_test, y_test)[1] * 100\n",
    "# print('model accuracy =', test_set_accuracy, '%')\n",
    "\n",
    "\n"
   ]
  },
  {
   "cell_type": "code",
   "execution_count": 59,
   "metadata": {},
   "outputs": [
    {
     "name": "stdout",
     "output_type": "stream",
     "text": [
      "24996\n",
      "19996\n",
      "5000\n"
     ]
    }
   ],
   "source": [
    "import os\n",
    "import torch\n",
    "import torchvision.transforms as transforms\n",
    "from torchvision.datasets import ImageFolder\n",
    "from torch.utils.data import DataLoader, random_split\n",
    "from PIL import Image\n",
    "\n",
    "# Transformaciones que se aplicarán a las imágenes\n",
    "transform = transforms.Compose([transforms.Resize((224, 224)),\n",
    "                                transforms.Grayscale(),\n",
    "                                transforms.ToTensor()])\n",
    "\n",
    "# Función para verificar si una imagen es válida\n",
    "def is_valid_image(filename):\n",
    "    try:\n",
    "        with Image.open(filename) as img:\n",
    "            img.verify()\n",
    "            if os.path.getsize(filename) > 0:\n",
    "                return True\n",
    "            else:\n",
    "                return False\n",
    "    except:\n",
    "        return False\n",
    "\n",
    "# Iterar a través de todas las imágenes en el conjunto de datos\n",
    "for root, dirs, files in os.walk(\"./PetImages\"):\n",
    "    for file in files:\n",
    "        filename = os.path.join(root, file)\n",
    "        \n",
    "        # Verificar si la imagen es válida\n",
    "        if not is_valid_image(filename):\n",
    "            print(f\"La imagen {filename} es inválida. Eliminando...\")\n",
    "            os.remove(filename)\n",
    "\n",
    "# Crear un objeto ImageFolder para cargar los datos\n",
    "dataset = ImageFolder(root='./PetImages', transform=transform, is_valid_file=is_valid_image)\n",
    "print(len(dataset))\n",
    "\n",
    "# # Eliminar las imágenes corruptas\n",
    "# indices = [i for i, (image, label) in enumerate(dataset) if not is_valid_image(dataset.imgs[i][0])]\n",
    "# print(ind)\n",
    "#  is_valid_image(dataset.imgs[i][0])]\n",
    "# dataset = torchprint(len(dataset))\n",
    "\n",
    "# Dividir el dataset en entrenamiento y prueba\n",
    "train_size = int(len(dataset) * 0.8)\n",
    "test_size = len(dataset) - train_size\n",
    "train_dataset, test_dataset = random_split(dataset, [train_size, test_size])\n",
    "\n",
    "print(train_size)\n",
    "print(test_size)\n",
    "\n",
    "# Crear los dataloaders\n",
    "train_loader = DataLoader(train_dataset, batch_size=128, shuffle=True)\n",
    "test_loader = DataLoader(test_dataset, batch_size=128, shuffle=True)\n"
   ]
  },
  {
   "attachments": {},
   "cell_type": "markdown",
   "metadata": {},
   "source": [
    "Se entrena el modelo para que pueda hacer las predicciones"
   ]
  },
  {
   "cell_type": "code",
   "execution_count": 60,
   "metadata": {},
   "outputs": [
    {
     "name": "stdout",
     "output_type": "stream",
     "text": [
      "Epoch [1/10], Step [100/157], Loss: 0.6943\n",
      "Epoch [2/10], Step [100/157], Loss: 0.6938\n",
      "Epoch [3/10], Step [100/157], Loss: 0.6925\n",
      "Epoch [4/10], Step [100/157], Loss: 0.6597\n",
      "Epoch [5/10], Step [100/157], Loss: 0.5339\n",
      "Epoch [6/10], Step [100/157], Loss: 0.4397\n",
      "Epoch [7/10], Step [100/157], Loss: 0.4458\n",
      "Epoch [8/10], Step [100/157], Loss: 0.3921\n",
      "Epoch [9/10], Step [100/157], Loss: 0.2709\n",
      "Epoch [10/10], Step [100/157], Loss: 0.1220\n"
     ]
    }
   ],
   "source": [
    "criterion = nn.CrossEntropyLoss()\n",
    "optimizer = optim.Adam(model.parameters(), lr=0.001)\n",
    "\n",
    "# Train the model\n",
    "num_epochs = 10\n",
    "for epoch in range(num_epochs):\n",
    "    \n",
    "    for i, (images, labels) in enumerate(train_loader):\n",
    "        try:\n",
    "            # Clean gradient before new batch\n",
    "            optimizer.zero_grad()\n",
    "            outputs = model(images)\n",
    "            loss = criterion(outputs, labels)\n",
    "            # Call backward propagation\n",
    "            loss.backward()\n",
    "            optimizer.step()\n",
    "            if (i+1) % 100 == 0:\n",
    "                print('Epoch [{}/{}], Step [{}/{}], Loss: {:.4f}'.format(epoch+1, num_epochs, i+1, len(train_loader), loss.item()))\n",
    "        except Exception as e:\n",
    "            continue    "
   ]
  },
  {
   "attachments": {},
   "cell_type": "markdown",
   "metadata": {},
   "source": [
    "Se evalua el modelo con el dataset de test para ver su precision"
   ]
  },
  {
   "cell_type": "code",
   "execution_count": 62,
   "metadata": {},
   "outputs": [
    {
     "name": "stdout",
     "output_type": "stream",
     "text": [
      "Accuracy of the network on the test images: 69.73999786376953 %\n"
     ]
    }
   ],
   "source": [
    "# Test the model\n",
    "model.eval()\n",
    "with torch.no_grad():\n",
    "    correct = 0\n",
    "    total = 0\n",
    "    \n",
    "    for images, labels in test_loader:\n",
    "        outputs = model(images)\n",
    "        _, predicted = torch.max(outputs.data, 1)\n",
    "        total += labels.size(0)\n",
    "        correct += (predicted == labels).sum()\n",
    "    print('Accuracy of the network on the test images: {} %'.format(100 * correct / total))\n"
   ]
  },
  {
   "attachments": {},
   "cell_type": "markdown",
   "metadata": {},
   "source": [
    "Debido a que el entrenamiento del modelo es bastante tardado, colocamos el accuracy obtenido:\n",
    "    Accuracy of the network on the test images: 69.73999786376953 %"
   ]
  }
 ],
 "metadata": {
  "kernelspec": {
   "display_name": "Python 3",
   "language": "python",
   "name": "python3"
  },
  "language_info": {
   "codemirror_mode": {
    "name": "ipython",
    "version": 3
   },
   "file_extension": ".py",
   "mimetype": "text/x-python",
   "name": "python",
   "nbconvert_exporter": "python",
   "pygments_lexer": "ipython3",
   "version": "3.10.5"
  },
  "orig_nbformat": 4
 },
 "nbformat": 4,
 "nbformat_minor": 2
}
